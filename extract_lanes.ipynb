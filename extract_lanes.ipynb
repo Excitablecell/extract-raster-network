{
 "cells": [
  {
   "cell_type": "code",
   "execution_count": 1,
   "metadata": {},
   "outputs": [],
   "source": [
    "import json\n",
    "import sys\n",
    "from collections import Counter\n",
    "from dataclasses import dataclass\n",
    "from typing import List, Tuple\n",
    "\n",
    "import cv2\n",
    "import networkx as nx\n",
    "import numpy as np\n",
    "import scipy.ndimage.measurements\n",
    "import shapely.geometry\n",
    "from PIL import Image\n",
    "from skimage import morphology, segmentation\n",
    "\n",
    "from extract_network import find_color, extract_network, render_skeleton, render_network"
   ]
  },
  {
   "cell_type": "code",
   "execution_count": 2,
   "metadata": {},
   "outputs": [],
   "source": [
    "rgb = (255, 255, 255)\n",
    "png_file = 'samples/gt/0_gray.png'\n",
    "im = Image.open(png_file)"
   ]
  },
  {
   "cell_type": "code",
   "execution_count": 3,
   "metadata": {},
   "outputs": [
    {
     "name": "stdout",
     "output_type": "stream",
     "text": [
      "Skeleton px=1718\n",
      "Adding 0/0 dense nodes to existing 22 nodes.\n",
      "Merged (246, 246) and (246, 248), d=2\n",
      "Merged (256, 239) and (256, 241), d=2\n",
      "Merged (256, 254) and (256, 256), d=2\n",
      "Merged (246, 247) and (256, 240), d=10\n",
      "Merged (251, 243) and (256, 255), d=15\n",
      "Extracted street network:\n",
      "  - 17 nodes\n",
      "  - 18 edges\n",
      "(512, 512)\n"
     ]
    }
   ],
   "source": [
    "px = find_color(im, rgb).T\n",
    "g = extract_network(px, 16)\n",
    "print(f'Extracted street network:')\n",
    "print(f'  - {len(g.nodes())} nodes')\n",
    "print(f'  - {len(g.edges())} edges')\n",
    "\n",
    "skel = morphology.skeletonize(px)\n",
    "skel_path = png_file.replace('.png', '.skel.png')\n",
    "img_skeleton = render_skeleton(im, skel, (255, 0, 0))\n",
    "img_skeleton.show()\n",
    "# print(f'Wrote {skel_path}')"
   ]
  },
  {
   "cell_type": "code",
   "execution_count": 4,
   "metadata": {},
   "outputs": [
    {
     "name": "stdout",
     "output_type": "stream",
     "text": [
      "graph nodes: 17\n",
      "graph edges: 18\n"
     ]
    }
   ],
   "source": [
    "out_path = png_file.replace('.png', '.grid.png')\n",
    "img_network = render_network(im, g, (0, 255, 0))\n",
    "img_network.show()\n",
    "# print(f'Wrote {out_path}')"
   ]
  },
  {
   "cell_type": "code",
   "execution_count": 5,
   "metadata": {},
   "outputs": [],
   "source": [
    "# fc = network_to_geojson(g)\n",
    "# geojson_path = png_file.replace('.png', '.grid.geojson')\n",
    "# with open(geojson_path, 'w') as out:\n",
    "#     json.dump(fc, out)\n",
    "# print(f'Wrote {geojson_path}')"
   ]
  }
 ],
 "metadata": {
  "kernelspec": {
   "display_name": "extract_raster",
   "language": "python",
   "name": "python3"
  },
  "language_info": {
   "codemirror_mode": {
    "name": "ipython",
    "version": 3
   },
   "file_extension": ".py",
   "mimetype": "text/x-python",
   "name": "python",
   "nbconvert_exporter": "python",
   "pygments_lexer": "ipython3",
   "version": "3.9.0"
  },
  "orig_nbformat": 4
 },
 "nbformat": 4,
 "nbformat_minor": 2
}
